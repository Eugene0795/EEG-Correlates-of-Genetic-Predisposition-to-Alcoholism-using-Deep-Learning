{
 "cells": [
  {
   "cell_type": "code",
   "execution_count": 90,
   "metadata": {},
   "outputs": [],
   "source": [
    "import numpy as np\n",
    "from sklearn.model_selection import train_test_split\n",
    "from sklearn import cross_validation \n",
    "from sklearn.model_selection import KFold\n",
    "from sklearn.neighbors import KNeighborsClassifier\n",
    "from sklearn import metrics\n",
    "from sklearn.model_selection import cross_val_score\n",
    "\n",
    "feature_vector_al = np.load(\"featureVec_al.npy\")\n",
    "feature_vector_co = np.load(\"featureVec_co.npy\")\n",
    "# Stack feature vectors of alcoholics and controls and separate out the target vectors.\n",
    "\n",
    "X = np.vstack((feature_vector_al[:,:-1],feature_vector_co[:,:-1]))\n",
    "y = np.hstack((feature_vector_al[:,-1],feature_vector_co[:,-1]))\n",
    "\n",
    "X_ = np.nan_to_num(X) # precaution to remove any nan values.\n",
    "\n",
    "# split into train and test set in 80:20 ratio\n",
    "X_train, X_test, y_train, y_test = train_test_split(X_,y,test_size = 0.2 , random_state = 0)"
   ]
  },
  {
   "cell_type": "code",
   "execution_count": 119,
   "metadata": {},
   "outputs": [
    {
     "name": "stdout",
     "output_type": "stream",
     "text": [
      "[0.6388888888888888, 0.7222222222222223, 0.6944444444444445, 0.75, 0.7777777777777778, 0.7222222222222223, 0.6666666666666666, 0.75, 0.6666666666666666]\n"
     ]
    }
   ],
   "source": [
    "# search for an optimal value of K for KNN\n",
    "# range of k we want to try\n",
    "k_range = range(1, 10)\n",
    "# empty list to store scores\n",
    "k_scores = []\n",
    "\n",
    "for k in k_range:\n",
    "    # eval knn for `k` neighbors\n",
    "    knn = KNeighborsClassifier(n_neighbors=k)\n",
    "    # append 3 fold cross val score\n",
    "    scores = cross_val_score(knn, X, y, cv=3, scoring='accuracy')\n",
    "    k_scores.append(scores.mean())\n",
    "\n",
    "print(k_scores)"
   ]
  },
  {
   "cell_type": "code",
   "execution_count": 120,
   "metadata": {},
   "outputs": [
    {
     "name": "stdout",
     "output_type": "stream",
     "text": [
      "[0.83333333 1.         0.5       ]\n",
      "0.7777777777777778\n"
     ]
    }
   ],
   "source": [
    "# 3fold cross-validation with K=5 for KNN\n",
    "# k = 5 for KNeighborsClassifier\n",
    "knn = KNeighborsClassifier(n_neighbors=5)\n",
    "\n",
    "# Use cross_val_score function\n",
    "# cv=3 for 3 folds\n",
    "# using accuracy as the scoring metric\n",
    "# input dataset is x and y i.e stacked feature vectors\n",
    "scores = cross_val_score(knn, X, y, cv=3, scoring='accuracy')\n",
    "print(scores)\n",
    "\n",
    "# use average accuracy as an estimate of out-of-sample accuracy\n",
    "# numpy array has a method mean()\n",
    "print(scores.mean())\n"
   ]
  },
  {
   "cell_type": "code",
   "execution_count": 231,
   "metadata": {},
   "outputs": [],
   "source": [
    "# TensorFlow and tf.keras\n",
    "import tensorflow as tf\n",
    "from tensorflow import keras\n",
    "\n",
    "model = keras.Sequential([\n",
    "    keras.layers.Dense(240, activation='relu'),\n",
    "    keras.layers.Dense(2, activation='softmax')\n",
    "])\n"
   ]
  },
  {
   "cell_type": "code",
   "execution_count": 232,
   "metadata": {},
   "outputs": [],
   "source": [
    "model.compile(optimizer='adam',\n",
    "              loss='sparse_categorical_crossentropy',\n",
    "              metrics=['accuracy'])\n"
   ]
  },
  {
   "cell_type": "code",
   "execution_count": 233,
   "metadata": {},
   "outputs": [
    {
     "name": "stdout",
     "output_type": "stream",
     "text": [
      "Epoch 1/4\n",
      "12/12 [==============================] - 1s 50ms/step - loss: 1.2407 - acc: 0.5000\n",
      "Epoch 2/4\n",
      "12/12 [==============================] - 0s 237us/step - loss: 0.4086 - acc: 0.7500\n",
      "Epoch 3/4\n",
      "12/12 [==============================] - 0s 273us/step - loss: 0.0841 - acc: 1.0000\n",
      "Epoch 4/4\n",
      "12/12 [==============================] - 0s 288us/step - loss: 0.0192 - acc: 1.0000\n"
     ]
    },
    {
     "data": {
      "text/plain": [
       "<tensorflow.python.keras._impl.keras.callbacks.History at 0x7f11578f56a0>"
      ]
     },
     "execution_count": 233,
     "metadata": {},
     "output_type": "execute_result"
    }
   ],
   "source": [
    "model.fit(X_train, y_train, epochs=4)\n"
   ]
  },
  {
   "cell_type": "code",
   "execution_count": 234,
   "metadata": {},
   "outputs": [
    {
     "name": "stdout",
     "output_type": "stream",
     "text": [
      "\n",
      "Test accuracy: 0.75\n"
     ]
    }
   ],
   "source": [
    "test_loss, test_acc = model.evaluate(X_test,  y_test, verbose=2)\n",
    "\n",
    "print('\\nTest accuracy:', test_acc)\n"
   ]
  },
  {
   "cell_type": "code",
   "execution_count": null,
   "metadata": {},
   "outputs": [],
   "source": []
  },
  {
   "cell_type": "code",
   "execution_count": null,
   "metadata": {},
   "outputs": [],
   "source": []
  }
 ],
 "metadata": {
  "kernelspec": {
   "display_name": "Python 3",
   "language": "python",
   "name": "python3"
  },
  "language_info": {
   "codemirror_mode": {
    "name": "ipython",
    "version": 3
   },
   "file_extension": ".py",
   "mimetype": "text/x-python",
   "name": "python",
   "nbconvert_exporter": "python",
   "pygments_lexer": "ipython3",
   "version": "3.6.7"
  }
 },
 "nbformat": 4,
 "nbformat_minor": 2
}

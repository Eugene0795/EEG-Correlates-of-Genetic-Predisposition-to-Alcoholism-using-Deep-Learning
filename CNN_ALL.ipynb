{
  "nbformat": 4,
  "nbformat_minor": 0,
  "metadata": {
    "colab": {
      "name": "Inception-V3.ipynb",
      "provenance": [],
      "collapsed_sections": []
    },
    "kernelspec": {
      "name": "python3",
      "display_name": "Python 3"
    },
    "accelerator": "GPU"
  },
  "cells": [
    {
      "cell_type": "code",
      "metadata": {
        "id": "CuuDWAelNqXn",
        "colab_type": "code",
        "colab": {
          "base_uri": "https://localhost:8080/",
          "height": 35
        },
        "outputId": "9c670132-c09b-4f97-a937-335d8ebd30d8"
      },
      "source": [
        "from google.colab import drive\n",
        "drive.mount('/content/drive')"
      ],
      "execution_count": 37,
      "outputs": [
        {
          "output_type": "stream",
          "text": [
            "Drive already mounted at /content/drive; to attempt to forcibly remount, call drive.mount(\"/content/drive\", force_remount=True).\n"
          ],
          "name": "stdout"
        }
      ]
    },
    {
      "cell_type": "markdown",
      "metadata": {
        "id": "aXHzT0aoQ9nx",
        "colab_type": "text"
      },
      "source": [
        " # Preproc for train dataset"
      ]
    },
    {
      "cell_type": "code",
      "metadata": {
        "id": "HbGM5ekeN2FN",
        "colab_type": "code",
        "colab": {}
      },
      "source": [
        "import numpy as np\n",
        "import os\n",
        "from matplotlib import pyplot as plt\n",
        "import cv2\n",
        "import random\n",
        "import pickle\n",
        "\n",
        "\n",
        "file_list = []\n",
        "class_list = []\n",
        "\n",
        "DATADIR = \"/content/drive/My Drive/SMNI_CMI_TRAIN_unzipped/SMNI_CNN/Images/train\"\n",
        "\n",
        "# All the categories you want your neural network to detect\n",
        "CATEGORIES = [\"alcoholic\", \"control\"]\n",
        "\n",
        "# The size of the images that your neural network will use\n",
        "IMG_SIZE = 50\n",
        "\n",
        "# Checking or all images in the data folder\n",
        "for category in CATEGORIES :\n",
        "\tpath = os.path.join(DATADIR, category)\n",
        "\tfor img in os.listdir(path):\n",
        "\t\timg_array = cv2.imread(os.path.join(path, img), cv2.IMREAD_GRAYSCALE)\n",
        "\n",
        "training_data = []\n",
        "\n",
        "def create_training_data():\n",
        "\tfor category in CATEGORIES :\n",
        "\t\tpath = os.path.join(DATADIR, category)\n",
        "\t\tclass_num = CATEGORIES.index(category)\n",
        "\t\tfor img in os.listdir(path):\n",
        "\t\t\ttry :\n",
        "\t\t\t\timg_array = cv2.imread(os.path.join(path, img), cv2.IMREAD_GRAYSCALE)\n",
        "\t\t\t\tnew_array = cv2.resize(img_array, (IMG_SIZE, IMG_SIZE))\n",
        "\t\t\t\ttraining_data.append([new_array, class_num])\n",
        "\t\t\texcept Exception as e:\n",
        "\t\t\t\tpass\n",
        "\n",
        "create_training_data()\n",
        "\n",
        "random.shuffle(training_data)\n",
        "\n",
        "X = [] #features\n",
        "y = [] #labels\n",
        "\n",
        "for features, label in training_data:\n",
        "\tX.append(features)\n",
        "\ty.append(label)\n",
        "\n",
        "X = np.array(X).reshape(-1, IMG_SIZE, IMG_SIZE, 1)\n",
        "\n",
        "# Creating the files containing all the information about your model\n",
        "pickle_out = open(\"X.pickle\", \"wb\")\n",
        "pickle.dump(X, pickle_out)\n",
        "pickle_out.close()\n",
        "\n",
        "pickle_out = open(\"y.pickle\", \"wb\")\n",
        "pickle.dump(y, pickle_out)\n",
        "pickle_out.close()\n",
        "\n",
        "pickle_in = open(\"X.pickle\", \"rb\")\n",
        "X = pickle.load(pickle_in)"
      ],
      "execution_count": 0,
      "outputs": []
    },
    {
      "cell_type": "markdown",
      "metadata": {
        "id": "_D6XSzfURCst",
        "colab_type": "text"
      },
      "source": [
        "# Preproc for test dataset"
      ]
    },
    {
      "cell_type": "code",
      "metadata": {
        "id": "jWM3qUyARFB9",
        "colab_type": "code",
        "colab": {}
      },
      "source": [
        "DATADIR = \"/content/drive/My Drive/SMNI_CMI_TRAIN_unzipped/SMNI_CNN/Images/val\"\n",
        "\n",
        "# All the categories you want your neural network to detect\n",
        "CATEGORIES = [\"alcoholic\", \"control\"]\n",
        "\n",
        "# The size of the images that your neural network will use\n",
        "IMG_SIZE = 50\n",
        "\n",
        "# Checking or all images in the data folder\n",
        "for category in CATEGORIES :\n",
        "\tpath = os.path.join(DATADIR, category)\n",
        "\tfor img in os.listdir(path):\n",
        "\t\timg_array = cv2.imread(os.path.join(path, img), cv2.IMREAD_GRAYSCALE)\n",
        "\n",
        "testing_data = []\n",
        "\n",
        "def create_testing_data():\n",
        "\tfor category in CATEGORIES :\n",
        "\t\tpath = os.path.join(DATADIR, category)\n",
        "\t\tclass_num = CATEGORIES.index(category)\n",
        "\t\tfor img in os.listdir(path):\n",
        "\t\t\ttry :\n",
        "\t\t\t\timg_array = cv2.imread(os.path.join(path, img), cv2.IMREAD_GRAYSCALE)\n",
        "\t\t\t\tnew_array = cv2.resize(img_array, (IMG_SIZE, IMG_SIZE))\n",
        "\t\t\t\ttesting_data.append([new_array, class_num])\n",
        "\t\t\texcept Exception as e:\n",
        "\t\t\t\tpass\n",
        "\n",
        "create_testing_data()\n",
        "\n",
        "X_test = [] #features\n",
        "y_test = [] #labels\n",
        "\n",
        "for features, label in testing_data:\n",
        "\tX_test.append(features)\n",
        "\ty_test.append(label)\n",
        "\n",
        "X_test = np.array(X_test).reshape(-1, IMG_SIZE, IMG_SIZE, 1)\n",
        "\n",
        "# Creating the files containing all the information about your model\n",
        "pickle_out = open(\"X_test.pickle\", \"wb\")\n",
        "pickle.dump(X_test, pickle_out)\n",
        "pickle_out.close()\n",
        "\n",
        "pickle_out = open(\"y_test.pickle\", \"wb\")\n",
        "pickle.dump(y_test, pickle_out)\n",
        "pickle_out.close()\n",
        "\n",
        "pickle_in = open(\"X_test.pickle\", \"rb\")\n",
        "X_test = pickle.load(pickle_in)"
      ],
      "execution_count": 0,
      "outputs": []
    },
    {
      "cell_type": "markdown",
      "metadata": {
        "id": "I_LgsdCuPn8A",
        "colab_type": "text"
      },
      "source": [
        "# Basic CNN"
      ]
    },
    {
      "cell_type": "code",
      "metadata": {
        "id": "8rMoovF5OtQ1",
        "colab_type": "code",
        "colab": {
          "base_uri": "https://localhost:8080/",
          "height": 1000
        },
        "outputId": "0d199c1e-d94a-441a-aed3-8cfc0381e1c8"
      },
      "source": [
        "import tensorflow as tf \n",
        "from tensorflow.keras.models import Sequential\n",
        "from tensorflow.keras.layers import Dense, Dropout, Activation, Flatten, Conv2D, MaxPooling2D\n",
        "import pickle\n",
        "from keras.models import model_from_json\n",
        "from keras.models import load_model\n",
        "import matplotlib.pyplot as plt\n",
        "\n",
        "# Opening the files about data\n",
        "X = pickle.load(open(\"X.pickle\", \"rb\"))\n",
        "y = pickle.load(open(\"y.pickle\", \"rb\"))\n",
        "\n",
        "# normalizing data (a pixel goes from 0 to 255)\n",
        "X = X/255.0\n",
        "\n",
        "# Building the model\n",
        "model = Sequential()\n",
        "# 3 convolutional layers\n",
        "model.add(Conv2D(32, (3, 3), input_shape = X.shape[1:]))\n",
        "model.add(Activation(\"relu\"))\n",
        "model.add(MaxPooling2D(pool_size=(2,2)))\n",
        "\n",
        "model.add(Conv2D(64, (3, 3)))\n",
        "model.add(Activation(\"relu\"))\n",
        "model.add(MaxPooling2D(pool_size=(2,2)))\n",
        "\n",
        "model.add(Conv2D(64, (3, 3)))\n",
        "model.add(Activation(\"relu\"))\n",
        "model.add(MaxPooling2D(pool_size=(2,2)))\n",
        "model.add(Dropout(0.25))\n",
        "\n",
        "# 2 hidden layers\n",
        "model.add(Flatten())\n",
        "model.add(Dense(128))\n",
        "model.add(Activation(\"relu\"))\n",
        "\n",
        "model.add(Dense(128))\n",
        "model.add(Activation(\"relu\"))\n",
        "\n",
        "# The output layer with 13 neurons, for 13 classes\n",
        "model.add(Dense(2))\n",
        "model.add(Activation(\"softmax\"))\n",
        "\n",
        "# Compiling the model using some basic parameters\n",
        "model.compile(loss=\"sparse_categorical_crossentropy\",\n",
        "\t\t\t\toptimizer=\"adam\",\n",
        "\t\t\t\tmetrics=[\"accuracy\"])\n",
        "\n",
        "# Training the model, with 40 iterations\n",
        "# validation_split corresponds to the percentage of images used for the validation phase compared to all the images\n",
        "history = model.fit(X, y, batch_size=32, epochs=20, validation_split=0.1)\n",
        "\n",
        "# Saving the model\n",
        "model_json = model.to_json()\n",
        "with open(\"model.json\", \"w\") as json_file :\n",
        "\tjson_file.write(model_json)\n",
        "\n",
        "model.save_weights(\"model.h5\")\n",
        "print(\"Saved model to disk\")\n",
        "\n",
        "model.save('CNN.model')\n",
        "\n",
        "# Printing a graph showing the accuracy changes during the training phase\n",
        "print(history.history.keys())\n",
        "plt.figure(1)\n",
        "plt.plot(history.history['acc'])\n",
        "plt.plot(history.history['val_acc'])\n",
        "plt.title('model accuracy')\n",
        "plt.ylabel('accuracy')\n",
        "plt.xlabel('epoch')\n",
        "plt.legend(['train', 'validation'], loc='upper left')"
      ],
      "execution_count": 120,
      "outputs": [
        {
          "output_type": "stream",
          "text": [
            "Train on 360 samples, validate on 40 samples\n",
            "Epoch 1/20\n",
            "360/360 [==============================] - 2s 5ms/sample - loss: 0.6935 - acc: 0.5028 - val_loss: 0.7753 - val_acc: 0.4500\n",
            "Epoch 2/20\n",
            "360/360 [==============================] - 0s 153us/sample - loss: 0.7126 - acc: 0.5056 - val_loss: 0.6885 - val_acc: 0.5500\n",
            "Epoch 3/20\n",
            "360/360 [==============================] - 0s 150us/sample - loss: 0.6933 - acc: 0.4889 - val_loss: 0.6923 - val_acc: 0.5500\n",
            "Epoch 4/20\n",
            "360/360 [==============================] - 0s 157us/sample - loss: 0.6926 - acc: 0.5250 - val_loss: 0.6912 - val_acc: 0.4750\n",
            "Epoch 5/20\n",
            "360/360 [==============================] - 0s 158us/sample - loss: 0.6905 - acc: 0.5417 - val_loss: 0.6938 - val_acc: 0.4500\n",
            "Epoch 6/20\n",
            "360/360 [==============================] - 0s 161us/sample - loss: 0.6938 - acc: 0.4778 - val_loss: 0.6897 - val_acc: 0.4750\n",
            "Epoch 7/20\n",
            "360/360 [==============================] - 0s 154us/sample - loss: 0.6865 - acc: 0.5750 - val_loss: 0.6822 - val_acc: 0.5750\n",
            "Epoch 8/20\n",
            "360/360 [==============================] - 0s 145us/sample - loss: 0.6770 - acc: 0.6056 - val_loss: 0.6571 - val_acc: 0.7750\n",
            "Epoch 9/20\n",
            "360/360 [==============================] - 0s 148us/sample - loss: 0.6456 - acc: 0.6944 - val_loss: 0.6015 - val_acc: 0.7500\n",
            "Epoch 10/20\n",
            "360/360 [==============================] - 0s 153us/sample - loss: 0.5878 - acc: 0.7167 - val_loss: 0.5399 - val_acc: 0.7750\n",
            "Epoch 11/20\n",
            "360/360 [==============================] - 0s 152us/sample - loss: 0.5689 - acc: 0.7389 - val_loss: 0.5038 - val_acc: 0.7750\n",
            "Epoch 12/20\n",
            "360/360 [==============================] - 0s 152us/sample - loss: 0.5067 - acc: 0.7722 - val_loss: 0.4848 - val_acc: 0.8000\n",
            "Epoch 13/20\n",
            "360/360 [==============================] - 0s 150us/sample - loss: 0.4882 - acc: 0.7917 - val_loss: 0.4919 - val_acc: 0.7750\n",
            "Epoch 14/20\n",
            "360/360 [==============================] - 0s 163us/sample - loss: 0.4657 - acc: 0.8083 - val_loss: 0.5224 - val_acc: 0.7750\n",
            "Epoch 15/20\n",
            "360/360 [==============================] - 0s 154us/sample - loss: 0.4029 - acc: 0.8389 - val_loss: 0.4394 - val_acc: 0.7000\n",
            "Epoch 16/20\n",
            "360/360 [==============================] - 0s 144us/sample - loss: 0.3753 - acc: 0.8389 - val_loss: 0.4378 - val_acc: 0.7500\n",
            "Epoch 17/20\n",
            "360/360 [==============================] - 0s 148us/sample - loss: 0.3762 - acc: 0.8528 - val_loss: 0.6048 - val_acc: 0.7750\n",
            "Epoch 18/20\n",
            "360/360 [==============================] - 0s 150us/sample - loss: 0.3538 - acc: 0.8528 - val_loss: 0.4114 - val_acc: 0.8250\n",
            "Epoch 19/20\n",
            "360/360 [==============================] - 0s 148us/sample - loss: 0.3066 - acc: 0.8611 - val_loss: 0.3911 - val_acc: 0.8250\n",
            "Epoch 20/20\n",
            "360/360 [==============================] - 0s 159us/sample - loss: 0.2540 - acc: 0.8778 - val_loss: 0.3470 - val_acc: 0.8750\n",
            "Saved model to disk\n",
            "dict_keys(['loss', 'acc', 'val_loss', 'val_acc'])\n"
          ],
          "name": "stdout"
        },
        {
          "output_type": "execute_result",
          "data": {
            "text/plain": [
              "<matplotlib.legend.Legend at 0x7efe7ed40c88>"
            ]
          },
          "metadata": {
            "tags": []
          },
          "execution_count": 120
        },
        {
          "output_type": "display_data",
          "data": {
            "image/png": "[encoded data removed]",
            "text/plain": [
              "<Figure size 432x288 with 1 Axes>"
            ]
          },
          "metadata": {
            "tags": []
          }
        }
      ]
    },
    {
      "cell_type": "markdown",
      "metadata": {
        "id": "s5yxXf0pSPGb",
        "colab_type": "text"
      },
      "source": [
        ""
      ]
    },
    {
      "cell_type": "code",
      "metadata": {
        "id": "dgzmWI2wPrRA",
        "colab_type": "code",
        "colab": {
          "base_uri": "https://localhost:8080/",
          "height": 190
        },
        "outputId": "a5426e48-d192-44c3-b02f-ab8f6254514c"
      },
      "source": [
        "from sklearn.metrics import classification_report\n",
        "\n",
        "# Opening the files about data\n",
        "X_test = pickle.load(open(\"X_test.pickle\", \"rb\"))\n",
        "y_test = pickle.load(open(\"y_test.pickle\", \"rb\"))\n",
        "\n",
        "# normalizing data (a pixel goes from 0 to 255)\n",
        "X_test = X_test/255.0\n",
        "\n",
        "y_pred = model.predict(X_test, batch_size=48, verbose=1)\n",
        "y_pred_bool = []\n",
        "for i in y_pred:\n",
        "  if i[0] > i[1]:\n",
        "    y_pred_bool.append(0)\n",
        "  else :\n",
        "    y_pred_bool.append(1)\n",
        "\n",
        "print(classification_report(y_test, y_pred_bool))"
      ],
      "execution_count": 121,
      "outputs": [
        {
          "output_type": "stream",
          "text": [
            "200/200 [==============================] - 1s 3ms/sample\n",
            "              precision    recall  f1-score   support\n",
            "\n",
            "           0       0.96      0.77      0.86       100\n",
            "           1       0.81      0.97      0.88       100\n",
            "\n",
            "    accuracy                           0.87       200\n",
            "   macro avg       0.89      0.87      0.87       200\n",
            "weighted avg       0.89      0.87      0.87       200\n",
            "\n"
          ],
          "name": "stdout"
        }
      ]
    },
    {
      "cell_type": "markdown",
      "metadata": {
        "id": "k7-OmcbBYU_n",
        "colab_type": "text"
      },
      "source": [
        "# Resnet"
      ]
    },
    {
      "cell_type": "code",
      "metadata": {
        "id": "8KOwIHizgR13",
        "colab_type": "code",
        "colab": {}
      },
      "source": [
        "import pandas as pd\n",
        "import numpy as np \n",
        "import matplotlib.pyplot as plt\n",
        "import os\n",
        "from urllib.request import urlopen,urlretrieve\n",
        "from PIL import Image\n",
        "from tqdm import tqdm_notebook\n",
        "%matplotlib inline\n",
        "from sklearn.utils import shuffle\n",
        "import cv2\n",
        "#from resnets_utils import *\n",
        "\n",
        "from keras.models import load_model\n",
        "from sklearn.datasets import load_files   \n",
        "from keras.utils import np_utils\n",
        "from glob import glob\n",
        "from keras import applications\n",
        "from keras.preprocessing.image import ImageDataGenerator \n",
        "from keras import optimizers\n",
        "from keras.models import Sequential,Model,load_model\n",
        "from keras.layers import Dense, Dropout, Flatten, Conv2D, MaxPool2D,GlobalAveragePooling2D\n",
        "from keras.callbacks import TensorBoard,ReduceLROnPlateau,ModelCheckpoint"
      ],
      "execution_count": 0,
      "outputs": []
    },
    {
      "cell_type": "code",
      "metadata": {
        "id": "IIRfqrLNkS_f",
        "colab_type": "code",
        "colab": {
          "base_uri": "https://localhost:8080/",
          "height": 121
        },
        "outputId": "fbb0a690-a740-4468-e0cf-1a9f82951241"
      },
      "source": [
        "# Normalize image vectors\n",
        "from keras.utils import to_categorical\n",
        "\n",
        "# Opening the files about data\n",
        "X = pickle.load(open(\"X.pickle\", \"rb\"))\n",
        "y = pickle.load(open(\"y.pickle\", \"rb\"))\n",
        "# X_test = pickle.load(open(\"X_test.pickle\", \"rb\"))\n",
        "# y_test = pickle.load(open(\"y_test.pickle\", \"rb\"))\n",
        "\n",
        "X_train, X_test, y_train, y_test = train_test_split(X, y, test_size=0.1)\n",
        "X_train = X_train / 255.0\n",
        "X_test = X_test / 255.0\n",
        "\n",
        "# Convert training and test labels to one hot matrices\n",
        "Y_train = to_categorical(y_train, 2)\n",
        "Y_test = to_categorical(y_test, 2)\n",
        "\n",
        "# datagen = ImageDataGenerator(\n",
        "#         rotation_range=10,\n",
        "#         zoom_range = 0.1,\n",
        "#         width_shift_range=0.1,\n",
        "#         height_shift_range=0.1)\n",
        "\n",
        "# datagen.fit(X_train)\n",
        "\n",
        "print (\"number of training examples = \" + str(X_train.shape[0]))\n",
        "print (\"number of test examples = \" + str(X_test.shape[0]))\n",
        "print (\"X_train shape: \" + str(X_train.shape))\n",
        "print (\"Y_train shape: \" + str(Y_train.shape))\n",
        "print (\"X_test shape: \" + str(X_test.shape))\n",
        "print (\"Y_test shape: \" + str(Y_test.shape))"
      ],
      "execution_count": 227,
      "outputs": [
        {
          "output_type": "stream",
          "text": [
            "number of training examples = 360\n",
            "number of test examples = 40\n",
            "X_train shape: (360, 50, 50, 1)\n",
            "Y_train shape: (360, 2)\n",
            "X_test shape: (40, 50, 50, 1)\n",
            "Y_test shape: (40, 2)\n"
          ],
          "name": "stdout"
        }
      ]
    },
    {
      "cell_type": "code",
      "metadata": {
        "id": "jlVhJhDZkyNf",
        "colab_type": "code",
        "colab": {
          "base_uri": "https://localhost:8080/",
          "height": 72
        },
        "outputId": "e3f02fe2-008f-468d-f099-f3fd3c4af1ad"
      },
      "source": [
        "img_height,img_width = 50,50 \n",
        "num_classes = 2\n",
        "#If imagenet weights are being loaded, \n",
        "#input must have a static square shape (one of (128, 128), (160, 160), (192, 192), or (224, 224))\n",
        "base_model = applications.resnet50.ResNet50(weights= None, include_top=False, input_shape= (img_height,img_width,1))"
      ],
      "execution_count": 228,
      "outputs": [
        {
          "output_type": "stream",
          "text": [
            "/usr/local/lib/python3.6/dist-packages/keras_applications/resnet50.py:265: UserWarning: The output shape of `ResNet50(include_top=False)` has been changed since Keras 2.2.0.\n",
            "  warnings.warn('The output shape of `ResNet50(include_top=False)` '\n"
          ],
          "name": "stderr"
        }
      ]
    },
    {
      "cell_type": "code",
      "metadata": {
        "id": "u-WjDbedk9zT",
        "colab_type": "code",
        "colab": {}
      },
      "source": [
        "x = base_model.output\n",
        "x = GlobalAveragePooling2D()(x)\n",
        "x = Dropout(0.7)(x)\n",
        "predictions = Dense(num_classes, activation= 'softmax')(x)\n",
        "model = Model(inputs = base_model.input, outputs = predictions)"
      ],
      "execution_count": 0,
      "outputs": []
    },
    {
      "cell_type": "code",
      "metadata": {
        "id": "zm9ZQp5LlGjK",
        "colab_type": "code",
        "colab": {}
      },
      "source": [
        "from keras.optimizers import SGD, Adam\n",
        "# sgd = SGD(lr=lrate, momentum=0.9, decay=decay, nesterov=False)\n",
        "adam = Adam(lr=0.0001)\n",
        "model.compile(optimizer= adam, loss='categorical_crossentropy', metrics=['accuracy'])"
      ],
      "execution_count": 0,
      "outputs": []
    },
    {
      "cell_type": "code",
      "metadata": {
        "id": "KfRWhGOElH3I",
        "colab_type": "code",
        "colab": {
          "base_uri": "https://localhost:8080/",
          "height": 380
        },
        "outputId": "f5c048ff-8829-4b15-c7da-3e4a9a73c83a"
      },
      "source": [
        "resnet_history = model.fit(X_train, Y_train, epochs = 10, batch_size = 32, validation_split=0.1)"
      ],
      "execution_count": 231,
      "outputs": [
        {
          "output_type": "stream",
          "text": [
            "Train on 324 samples, validate on 36 samples\n",
            "Epoch 1/10\n",
            "324/324 [==============================] - 40s 123ms/step - loss: 1.8787 - acc: 0.5309 - val_loss: 0.8404 - val_acc: 0.4444\n",
            "Epoch 2/10\n",
            "324/324 [==============================] - 1s 3ms/step - loss: 1.4312 - acc: 0.5278 - val_loss: 0.6287 - val_acc: 0.7222\n",
            "Epoch 3/10\n",
            "324/324 [==============================] - 1s 3ms/step - loss: 1.1541 - acc: 0.5617 - val_loss: 0.7772 - val_acc: 0.5000\n",
            "Epoch 4/10\n",
            "324/324 [==============================] - 1s 3ms/step - loss: 1.0005 - acc: 0.6543 - val_loss: 0.7858 - val_acc: 0.6111\n",
            "Epoch 5/10\n",
            "324/324 [==============================] - 1s 3ms/step - loss: 0.9047 - acc: 0.6883 - val_loss: 0.8639 - val_acc: 0.5556\n",
            "Epoch 6/10\n",
            "324/324 [==============================] - 1s 3ms/step - loss: 0.7546 - acc: 0.7377 - val_loss: 0.9583 - val_acc: 0.5278\n",
            "Epoch 7/10\n",
            "324/324 [==============================] - 1s 3ms/step - loss: 0.5717 - acc: 0.7932 - val_loss: 0.3829 - val_acc: 0.8056\n",
            "Epoch 8/10\n",
            "324/324 [==============================] - 1s 3ms/step - loss: 0.5144 - acc: 0.8241 - val_loss: 1.0499 - val_acc: 0.6667\n",
            "Epoch 9/10\n",
            "324/324 [==============================] - 1s 3ms/step - loss: 0.2824 - acc: 0.9167 - val_loss: 1.2388 - val_acc: 0.6389\n",
            "Epoch 10/10\n",
            "324/324 [==============================] - 1s 3ms/step - loss: 0.3172 - acc: 0.8951 - val_loss: 1.5377 - val_acc: 0.5556\n"
          ],
          "name": "stdout"
        }
      ]
    },
    {
      "cell_type": "code",
      "metadata": {
        "id": "kMTBhQ-dm2bT",
        "colab_type": "code",
        "colab": {
          "base_uri": "https://localhost:8080/",
          "height": 69
        },
        "outputId": "b627ba39-cf8c-4393-c4c7-a2021975f09d"
      },
      "source": [
        "preds = model.evaluate(X_test, Y_test)\n",
        "print (\"Loss = \" + str(preds[0]))\n",
        "print (\"Test Accuracy = \" + str(preds[1]))"
      ],
      "execution_count": 232,
      "outputs": [
        {
          "output_type": "stream",
          "text": [
            "40/40 [==============================] - 0s 1ms/step\n",
            "Loss = 0.9271838665008545\n",
            "Test Accuracy = 0.725\n"
          ],
          "name": "stdout"
        }
      ]
    },
    {
      "cell_type": "code",
      "metadata": {
        "id": "xfi-k4HWnD21",
        "colab_type": "code",
        "colab": {
          "base_uri": "https://localhost:8080/",
          "height": 173
        },
        "outputId": "3225a3de-96b2-41bb-8a19-57b8ab4e6383"
      },
      "source": [
        "from sklearn.metrics import classification_report\n",
        "\n",
        "# Opening the files about data\n",
        "# X_test = pickle.load(open(\"X_test.pickle\", \"rb\"))\n",
        "# y_test = pickle.load(open(\"y_test.pickle\", \"rb\"))\n",
        "\n",
        "# normalizing data (a pixel goes from 0 to 255)\n",
        "# X_test = X_test/255.0\n",
        "\n",
        "y_pred = model.predict(X_test)\n",
        "y_pred_bool = []\n",
        "for i in y_pred:\n",
        "  if i[0] > i[1]:\n",
        "    y_pred_bool.append(0)\n",
        "  else :\n",
        "    y_pred_bool.append(1)\n",
        "\n",
        "print(classification_report(y_test, y_pred_bool))"
      ],
      "execution_count": 233,
      "outputs": [
        {
          "output_type": "stream",
          "text": [
            "              precision    recall  f1-score   support\n",
            "\n",
            "           0       0.75      0.53      0.62        17\n",
            "           1       0.71      0.87      0.78        23\n",
            "\n",
            "    accuracy                           0.73        40\n",
            "   macro avg       0.73      0.70      0.70        40\n",
            "weighted avg       0.73      0.72      0.71        40\n",
            "\n"
          ],
          "name": "stdout"
        }
      ]
    },
    {
      "cell_type": "code",
      "metadata": {
        "id": "dS1Q1zAznEzy",
        "colab_type": "code",
        "colab": {
          "base_uri": "https://localhost:8080/",
          "height": 312
        },
        "outputId": "3a6f2017-a4c5-45fb-ccf5-169e35ac3545"
      },
      "source": [
        "plt.figure(1)\n",
        "plt.plot(resnet_history.history['acc'])\n",
        "plt.plot(resnet_history.history['val_acc'])\n",
        "plt.plot(resnet_history.history['loss'])\n",
        "plt.plot(resnet_history.history['val_loss'])\n",
        "plt.title('model accuracy/loss')\n",
        "plt.ylabel('accuracy/loss')\n",
        "plt.xlabel('epoch')\n",
        "plt.legend(['train_acc', 'validation_acc','train_loss', 'val_loss'], loc='upper left')"
      ],
      "execution_count": 234,
      "outputs": [
        {
          "output_type": "execute_result",
          "data": {
            "text/plain": [
              "<matplotlib.legend.Legend at 0x7f9fa9ae7ba8>"
            ]
          },
          "metadata": {
            "tags": []
          },
          "execution_count": 234
        },
        {
          "output_type": "display_data",
          "data": {
            "image/png": "[encoded data removed]",
            "text/plain": [
              "<Figure size 432x288 with 1 Axes>"
            ]
          },
          "metadata": {
            "tags": []
          }
        }
      ]
    },
    {
      "cell_type": "markdown",
      "metadata": {
        "id": "wXPW9tKPr30y",
        "colab_type": "text"
      },
      "source": [
        "# 5-layer CNN\n",
        "\n",
        "As you can see, the ResNEt model doesn't work well on our dataset since the size is very less. It tends to overfit on ResNet. And initially, using the basic 3-CNN model, we were able to get a well-performing model. Therefore, we'll extend it to a 5 layer model now and see how it performs."
      ]
    },
    {
      "cell_type": "code",
      "metadata": {
        "id": "D6PYp23kssuN",
        "colab_type": "code",
        "colab": {}
      },
      "source": [
        "import pandas as pd\n",
        "import matplotlib.pyplot as plt\n",
        "%matplotlib inline\n",
        "from sklearn.model_selection import train_test_split\n",
        "\n",
        "from keras.preprocessing.image import ImageDataGenerator\n",
        "from keras.callbacks import LearningRateScheduler\n",
        "\n",
        "\n",
        "from keras.models import Sequential\n",
        "from keras.layers import Dense, Dropout, Flatten, Conv2D, MaxPool2D, BatchNormalization\n",
        "from keras.optimizers import Adam"
      ],
      "execution_count": 0,
      "outputs": []
    },
    {
      "cell_type": "code",
      "metadata": {
        "id": "Vxok_jWgno4r",
        "colab_type": "code",
        "colab": {
          "base_uri": "https://localhost:8080/",
          "height": 121
        },
        "outputId": "0440d8c7-451c-4ca9-e23a-8b7b8a81dccb"
      },
      "source": [
        "# Normalize image vectors\n",
        "from keras.utils import to_categorical\n",
        "\n",
        "# Opening the files about data\n",
        "X = pickle.load(open(\"X.pickle\", \"rb\"))\n",
        "y = pickle.load(open(\"y.pickle\", \"rb\"))\n",
        "# X_test = pickle.load(open(\"X_test.pickle\", \"rb\"))\n",
        "# y_test = pickle.load(open(\"y_test.pickle\", \"rb\"))\n",
        "\n",
        "X_train, X_test, y_train, y_test = train_test_split(X, y, test_size=0.1)\n",
        "X_train = X_train / 255.0\n",
        "X_test = X_test / 255.0\n",
        "\n",
        "# Convert training and test labels to one hot matrices\n",
        "Y_train = to_categorical(y_train, 2)\n",
        "Y_test = to_categorical(y_test, 2)\n",
        "\n",
        "# datagen = ImageDataGenerator(\n",
        "#         rotation_range=10,\n",
        "#         zoom_range = 0.1,\n",
        "#         width_shift_range=0.1,\n",
        "#         height_shift_range=0.1)\n",
        "\n",
        "# datagen.fit(X_train)\n",
        "\n",
        "print (\"number of training examples = \" + str(X_train.shape[0]))\n",
        "print (\"number of test examples = \" + str(X_test.shape[0]))\n",
        "print (\"X_train shape: \" + str(X_train.shape))\n",
        "print (\"Y_train shape: \" + str(Y_train.shape))\n",
        "print (\"X_test shape: \" + str(X_test.shape))\n",
        "print (\"Y_test shape: \" + str(Y_test.shape))"
      ],
      "execution_count": 201,
      "outputs": [
        {
          "output_type": "stream",
          "text": [
            "number of training examples = 360\n",
            "number of test examples = 40\n",
            "X_train shape: (360, 50, 50, 1)\n",
            "Y_train shape: (360, 2)\n",
            "X_test shape: (40, 50, 50, 1)\n",
            "Y_test shape: (40, 2)\n"
          ],
          "name": "stdout"
        }
      ]
    },
    {
      "cell_type": "code",
      "metadata": {
        "id": "4k6g1ruWsia6",
        "colab_type": "code",
        "colab": {}
      },
      "source": [
        "\n",
        "model = Sequential()\n",
        "\n",
        "model.add(Conv2D(32, kernel_size=5,input_shape=(50, 50, 1), activation = 'relu'))\n",
        "model.add(Conv2D(32, kernel_size=5, activation = 'relu'))\n",
        "model.add(MaxPool2D(2,2))\n",
        "model.add(BatchNormalization())\n",
        "model.add(Dropout(0.4))\n",
        "\n",
        "model.add(Conv2D(64, kernel_size=3,activation = 'relu'))\n",
        "model.add(Conv2D(64, kernel_size=3,activation = 'relu'))\n",
        "model.add(MaxPool2D(2,2))\n",
        "model.add(BatchNormalization())\n",
        "model.add(Dropout(0.4))\n",
        "\n",
        "model.add(Conv2D(128, kernel_size=3, activation = 'relu'))\n",
        "model.add(BatchNormalization())\n",
        "\n",
        "model.add(Flatten())\n",
        "model.add(Dense(256, activation = \"relu\"))\n",
        "model.add(Dropout(0.4))\n",
        "model.add(Dense(128, activation = \"relu\"))\n",
        "model.add(Dropout(0.4))\n",
        "model.add(Dense(2, activation = \"softmax\"))\n"
      ],
      "execution_count": 0,
      "outputs": []
    },
    {
      "cell_type": "code",
      "metadata": {
        "id": "i8TU-mv_swi7",
        "colab_type": "code",
        "colab": {
          "base_uri": "https://localhost:8080/",
          "height": 777
        },
        "outputId": "f8b8fa39-0b37-497c-e4fc-7e9f2ac6fc8c"
      },
      "source": [
        "optimizer=Adam(lr=0.001)\n",
        "model.compile(optimizer = optimizer , loss = \"categorical_crossentropy\", metrics=[\"accuracy\"])\n",
        "\n",
        "model.summary()"
      ],
      "execution_count": 203,
      "outputs": [
        {
          "output_type": "stream",
          "text": [
            "Model: \"sequential_16\"\n",
            "_________________________________________________________________\n",
            "Layer (type)                 Output Shape              Param #   \n",
            "=================================================================\n",
            "conv2d_73 (Conv2D)           (None, 46, 46, 32)        832       \n",
            "_________________________________________________________________\n",
            "conv2d_74 (Conv2D)           (None, 42, 42, 32)        25632     \n",
            "_________________________________________________________________\n",
            "max_pooling2d_36 (MaxPooling (None, 21, 21, 32)        0         \n",
            "_________________________________________________________________\n",
            "batch_normalization_43 (Batc (None, 21, 21, 32)        128       \n",
            "_________________________________________________________________\n",
            "dropout_63 (Dropout)         (None, 21, 21, 32)        0         \n",
            "_________________________________________________________________\n",
            "conv2d_75 (Conv2D)           (None, 19, 19, 64)        18496     \n",
            "_________________________________________________________________\n",
            "conv2d_76 (Conv2D)           (None, 17, 17, 64)        36928     \n",
            "_________________________________________________________________\n",
            "max_pooling2d_37 (MaxPooling (None, 8, 8, 64)          0         \n",
            "_________________________________________________________________\n",
            "batch_normalization_44 (Batc (None, 8, 8, 64)          256       \n",
            "_________________________________________________________________\n",
            "dropout_64 (Dropout)         (None, 8, 8, 64)          0         \n",
            "_________________________________________________________________\n",
            "conv2d_77 (Conv2D)           (None, 6, 6, 128)         73856     \n",
            "_________________________________________________________________\n",
            "batch_normalization_45 (Batc (None, 6, 6, 128)         512       \n",
            "_________________________________________________________________\n",
            "flatten_15 (Flatten)         (None, 4608)              0         \n",
            "_________________________________________________________________\n",
            "dense_49 (Dense)             (None, 256)               1179904   \n",
            "_________________________________________________________________\n",
            "dropout_65 (Dropout)         (None, 256)               0         \n",
            "_________________________________________________________________\n",
            "dense_50 (Dense)             (None, 128)               32896     \n",
            "_________________________________________________________________\n",
            "dropout_66 (Dropout)         (None, 128)               0         \n",
            "_________________________________________________________________\n",
            "dense_51 (Dense)             (None, 2)                 258       \n",
            "=================================================================\n",
            "Total params: 1,369,698\n",
            "Trainable params: 1,369,250\n",
            "Non-trainable params: 448\n",
            "_________________________________________________________________\n"
          ],
          "name": "stdout"
        }
      ]
    },
    {
      "cell_type": "code",
      "metadata": {
        "id": "2AYvKtE9tAe4",
        "colab_type": "code",
        "colab": {
          "base_uri": "https://localhost:8080/",
          "height": 725
        },
        "outputId": "ed8ca426-6f87-4efe-d024-967074df16af"
      },
      "source": [
        "model_try = model.fit(X_train, Y_train, batch_size=32, epochs=20, validation_split=0.1)\n",
        "\n",
        "\n",
        "# predictions = np.argmax(predictions,axis = 1)\n",
        "# predictions = pd.Series(predictions, name=\"Label\")\n",
        "# submit = pd.concat([pd.Series(range(1,28001),name = \"ImageId\"),predictions],axis = 1)\n",
        "# submit.to_csv(\"result.csv\",index=False)"
      ],
      "execution_count": 204,
      "outputs": [
        {
          "output_type": "stream",
          "text": [
            "Train on 324 samples, validate on 36 samples\n",
            "Epoch 1/20\n",
            "324/324 [==============================] - 22s 67ms/step - loss: 1.1385 - acc: 0.5679 - val_loss: 1.5674 - val_acc: 0.4722\n",
            "Epoch 2/20\n",
            "324/324 [==============================] - 0s 547us/step - loss: 0.7758 - acc: 0.6883 - val_loss: 5.7908 - val_acc: 0.3889\n",
            "Epoch 3/20\n",
            "324/324 [==============================] - 0s 532us/step - loss: 0.7585 - acc: 0.6574 - val_loss: 5.2109 - val_acc: 0.3889\n",
            "Epoch 4/20\n",
            "324/324 [==============================] - 0s 513us/step - loss: 0.7447 - acc: 0.6543 - val_loss: 8.1981 - val_acc: 0.3889\n",
            "Epoch 5/20\n",
            "324/324 [==============================] - 0s 539us/step - loss: 0.6676 - acc: 0.6821 - val_loss: 4.5222 - val_acc: 0.3889\n",
            "Epoch 6/20\n",
            "324/324 [==============================] - 0s 522us/step - loss: 0.6430 - acc: 0.6698 - val_loss: 1.6672 - val_acc: 0.4444\n",
            "Epoch 7/20\n",
            "324/324 [==============================] - 0s 521us/step - loss: 0.5747 - acc: 0.7253 - val_loss: 0.6687 - val_acc: 0.7500\n",
            "Epoch 8/20\n",
            "324/324 [==============================] - 0s 517us/step - loss: 0.5533 - acc: 0.7623 - val_loss: 0.4400 - val_acc: 0.8056\n",
            "Epoch 9/20\n",
            "324/324 [==============================] - 0s 538us/step - loss: 0.4852 - acc: 0.7562 - val_loss: 0.3733 - val_acc: 0.7778\n",
            "Epoch 10/20\n",
            "324/324 [==============================] - 0s 501us/step - loss: 0.5093 - acc: 0.7623 - val_loss: 0.5864 - val_acc: 0.7222\n",
            "Epoch 11/20\n",
            "324/324 [==============================] - 0s 551us/step - loss: 0.4560 - acc: 0.8148 - val_loss: 0.8720 - val_acc: 0.6667\n",
            "Epoch 12/20\n",
            "324/324 [==============================] - 0s 542us/step - loss: 0.4235 - acc: 0.7963 - val_loss: 0.3930 - val_acc: 0.8333\n",
            "Epoch 13/20\n",
            "324/324 [==============================] - 0s 525us/step - loss: 0.4664 - acc: 0.7870 - val_loss: 0.3459 - val_acc: 0.8333\n",
            "Epoch 14/20\n",
            "324/324 [==============================] - 0s 526us/step - loss: 0.3809 - acc: 0.8148 - val_loss: 0.4006 - val_acc: 0.8333\n",
            "Epoch 15/20\n",
            "324/324 [==============================] - 0s 527us/step - loss: 0.3988 - acc: 0.8210 - val_loss: 0.3649 - val_acc: 0.8611\n",
            "Epoch 16/20\n",
            "324/324 [==============================] - 0s 514us/step - loss: 0.4191 - acc: 0.8148 - val_loss: 0.3030 - val_acc: 0.8889\n",
            "Epoch 17/20\n",
            "324/324 [==============================] - 0s 529us/step - loss: 0.3970 - acc: 0.8395 - val_loss: 1.5184 - val_acc: 0.6389\n",
            "Epoch 18/20\n",
            "324/324 [==============================] - 0s 524us/step - loss: 0.3025 - acc: 0.8611 - val_loss: 1.0328 - val_acc: 0.6944\n",
            "Epoch 19/20\n",
            "324/324 [==============================] - 0s 523us/step - loss: 0.2832 - acc: 0.8858 - val_loss: 0.2764 - val_acc: 0.9444\n",
            "Epoch 20/20\n",
            "324/324 [==============================] - 0s 520us/step - loss: 0.2426 - acc: 0.9043 - val_loss: 0.3533 - val_acc: 0.8056\n"
          ],
          "name": "stdout"
        }
      ]
    },
    {
      "cell_type": "code",
      "metadata": {
        "id": "0VYb92UxtJoX",
        "colab_type": "code",
        "colab": {
          "base_uri": "https://localhost:8080/",
          "height": 173
        },
        "outputId": "b76f0075-be31-493a-b6dd-47c587674862"
      },
      "source": [
        "from sklearn.metrics import classification_report\n",
        "\n",
        "# Opening the files about data\n",
        "# X_test = pickle.load(open(\"X_test.pickle\", \"rb\"))\n",
        "# y_test = pickle.load(open(\"y_test.pickle\", \"rb\"))\n",
        "\n",
        "# normalizing data (a pixel goes from 0 to 255)\n",
        "# X_test = X_test/255.0\n",
        "\n",
        "y_pred = model.predict(X_test)\n",
        "y_pred_bool = []\n",
        "for i in y_pred:\n",
        "  if i[0] > i[1]:\n",
        "    y_pred_bool.append(0)\n",
        "  else :\n",
        "    y_pred_bool.append(1)\n",
        "\n",
        "print(classification_report(y_test, y_pred_bool))"
      ],
      "execution_count": 205,
      "outputs": [
        {
          "output_type": "stream",
          "text": [
            "              precision    recall  f1-score   support\n",
            "\n",
            "           0       0.73      0.90      0.81        21\n",
            "           1       0.86      0.63      0.73        19\n",
            "\n",
            "    accuracy                           0.78        40\n",
            "   macro avg       0.79      0.77      0.77        40\n",
            "weighted avg       0.79      0.78      0.77        40\n",
            "\n"
          ],
          "name": "stdout"
        }
      ]
    },
    {
      "cell_type": "code",
      "metadata": {
        "id": "y35jCUl8zSro",
        "colab_type": "code",
        "colab": {
          "base_uri": "https://localhost:8080/",
          "height": 69
        },
        "outputId": "d9d7a102-aec0-408a-eb13-4853c1899f6a"
      },
      "source": [
        "preds = model.evaluate(X_test, Y_test)\n",
        "print (\"Loss = \" + str(preds[0]))\n",
        "print (\"Test Accuracy = \" + str(preds[1]))"
      ],
      "execution_count": 206,
      "outputs": [
        {
          "output_type": "stream",
          "text": [
            "40/40 [==============================] - 0s 824us/step\n",
            "Loss = 0.8016742885112762\n",
            "Test Accuracy = 0.775\n"
          ],
          "name": "stdout"
        }
      ]
    },
    {
      "cell_type": "code",
      "metadata": {
        "id": "zqDuOR9auyx3",
        "colab_type": "code",
        "colab": {
          "base_uri": "https://localhost:8080/",
          "height": 312
        },
        "outputId": "84059f37-d1f6-4915-da2a-04db760732a2"
      },
      "source": [
        "plt.figure(1)\n",
        "plt.plot(model_try.history['acc'])\n",
        "plt.plot(model_try.history['val_acc'])\n",
        "plt.plot(model_try.history['loss'])\n",
        "plt.plot(model_try.history['val_loss'])\n",
        "plt.title('model accuracy/loss')\n",
        "plt.ylabel('accuracy/loss')\n",
        "plt.xlabel('epoch')\n",
        "plt.legend(['train_acc', 'validation_acc','train_loss', 'val_loss'], loc='upper left')"
      ],
      "execution_count": 207,
      "outputs": [
        {
          "output_type": "execute_result",
          "data": {
            "text/plain": [
              "<matplotlib.legend.Legend at 0x7f9fb24f9198>"
            ]
          },
          "metadata": {
            "tags": []
          },
          "execution_count": 207
        },
        {
          "output_type": "display_data",
          "data": {
            "image/png": "[encoded data removed]",
            "text/plain": [
              "<Figure size 432x288 with 1 Axes>"
            ]
          },
          "metadata": {
            "tags": []
          }
        }
      ]
    },
    {
      "cell_type": "code",
      "metadata": {
        "id": "SR3w7XW5u9UD",
        "colab_type": "code",
        "colab": {}
      },
      "source": [
        ""
      ],
      "execution_count": 0,
      "outputs": []
    }
  ]
}